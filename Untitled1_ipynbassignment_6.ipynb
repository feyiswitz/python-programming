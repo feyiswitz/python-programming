{
  "nbformat": 4,
  "nbformat_minor": 0,
  "metadata": {
    "colab": {
      "provenance": [],
      "authorship_tag": "ABX9TyNZQeIs21JQeHi+OSkKfzTs",
      "include_colab_link": true
    },
    "kernelspec": {
      "name": "python3",
      "display_name": "Python 3"
    },
    "language_info": {
      "name": "python"
    }
  },
  "cells": [
    {
      "cell_type": "markdown",
      "metadata": {
        "id": "view-in-github",
        "colab_type": "text"
      },
      "source": [
        "<a href=\"https://colab.research.google.com/github/feyiswitz/python-programming/blob/main/Untitled1_ipynbassignment_6.ipynb\" target=\"_parent\"><img src=\"https://colab.research.google.com/assets/colab-badge.svg\" alt=\"Open In Colab\"/></a>"
      ]
    },
    {
      "cell_type": "code",
      "source": [],
      "metadata": {
        "id": "LaVeWqTEfpC0"
      },
      "execution_count": null,
      "outputs": []
    },
    {
      "cell_type": "code",
      "source": [
        "\n",
        "\n"
      ],
      "metadata": {
        "id": "Fw3tXZ1EhRM0"
      },
      "execution_count": null,
      "outputs": []
    },
    {
      "cell_type": "markdown",
      "source": [],
      "metadata": {
        "id": "Bsa8ftimKzkd"
      }
    },
    {
      "cell_type": "markdown",
      "source": [
        "answers to the first section.\n",
        "1) c, to perform conditional execution code.\n",
        "2) a, ==\n",
        "3) a, using the elif keyword.\n",
        "4) b, the code block inside the if statement is skipped\n",
        "5) a, to specify an alternative condition\n",
        "6) c\n",
        "7) c, 2\n",
        "8) a, or\n",
        "9) a, to perform repititive tasks\n",
        "10) b, one level of identation deeper than the if statement."
      ],
      "metadata": {
        "id": "AL4Lqe55OUGF"
      }
    },
    {
      "cell_type": "code",
      "source": [
        "# Check whether a number is positive or negative.\n",
        "# We will assume the number is 50 or above.\n",
        "\n",
        "# Get the number from the user\n",
        "number = int(input('Enter number: '))\n",
        "\n",
        "# If the number is 50 or above,\n",
        "# number >= 50 results to True\n",
        "if number >= 50:\n",
        "    print('positive number.')\n",
        "\n",
        "\n",
        "\n",
        "\n",
        "\n",
        "\n",
        "\n"
      ],
      "metadata": {
        "colab": {
          "base_uri": "https://localhost:8080/"
        },
        "id": "UUvNb8xHigQD",
        "outputId": "ca529ca7-25b5-4bfd-d3ae-164c490b695b"
      },
      "execution_count": null,
      "outputs": [
        {
          "output_type": "stream",
          "name": "stdout",
          "text": [
            "Enter number: 78\n",
            "positive number.\n"
          ]
        }
      ]
    }
  ]
}