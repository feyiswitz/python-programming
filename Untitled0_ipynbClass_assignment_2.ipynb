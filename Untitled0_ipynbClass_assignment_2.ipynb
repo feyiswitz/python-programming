{
  "nbformat": 4,
  "nbformat_minor": 0,
  "metadata": {
    "colab": {
      "provenance": [],
      "authorship_tag": "ABX9TyPEUx1epi1sJZHLUdkPWKBm",
      "include_colab_link": true
    },
    "kernelspec": {
      "name": "python3",
      "display_name": "Python 3"
    },
    "language_info": {
      "name": "python"
    }
  },
  "cells": [
    {
      "cell_type": "markdown",
      "metadata": {
        "id": "view-in-github",
        "colab_type": "text"
      },
      "source": [
        "<a href=\"https://colab.research.google.com/github/feyiswitz/python-programming/blob/main/Untitled0_ipynbClass_assignment_2.ipynb\" target=\"_parent\"><img src=\"https://colab.research.google.com/assets/colab-badge.svg\" alt=\"Open In Colab\"/></a>"
      ]
    },
    {
      "cell_type": "code",
      "execution_count": 4,
      "metadata": {
        "colab": {
          "base_uri": "https://localhost:8080/"
        },
        "id": "Rsp9zO5HM-96",
        "outputId": "eeb5d79d-8cc6-46be-e009-d4a1224e7a9c"
      },
      "outputs": [
        {
          "output_type": "stream",
          "name": "stdout",
          "text": [
            "<class 'float'>\n",
            "56.789\n"
          ]
        }
      ],
      "source": [
        "students_cgpa = type(56.789)\n",
        "print(students_cgpa)\n",
        "a = \"56.789\"\n",
        "b = float(a)\n",
        "print (b)"
      ]
    }
  ]
}