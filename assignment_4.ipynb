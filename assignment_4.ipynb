{
  "nbformat": 4,
  "nbformat_minor": 0,
  "metadata": {
    "colab": {
      "provenance": [],
      "include_colab_link": true
    },
    "kernelspec": {
      "name": "python3",
      "display_name": "Python 3"
    },
    "language_info": {
      "name": "python"
    }
  },
  "cells": [
    {
      "cell_type": "markdown",
      "metadata": {
        "id": "view-in-github",
        "colab_type": "text"
      },
      "source": [
        "<a href=\"https://colab.research.google.com/github/feyiswitz/python-programming/blob/main/assignment_4.ipynb\" target=\"_parent\"><img src=\"https://colab.research.google.com/assets/colab-badge.svg\" alt=\"Open In Colab\"/></a>"
      ]
    },
    {
      "cell_type": "code",
      "source": [
        "a = 7\n",
        "b = 2\n",
        "\n",
        "# addition\n",
        "print ('Sum: ', a + b)\n",
        "\n",
        "# subtraction\n",
        "print ('Subtraction: ', a - b)\n",
        "\n",
        "# multiplication\n",
        "print ('Multiplication: ', a * b)\n",
        "\n",
        "# division\n",
        "print ('Division: ', a / b)\n",
        "\n",
        "# floor division\n",
        "print ('Floor Division: ', a // b)\n",
        "\n",
        "# modulo\n",
        "print ('Modulo: ', a % b)\n",
        "\n",
        "# a to the power b\n",
        "print ('Power: ', a ** b)\n",
        "\n"
      ],
      "metadata": {
        "colab": {
          "base_uri": "https://localhost:8080/"
        },
        "id": "QNy_dliiOrSR",
        "outputId": "e2921fdd-8837-4ece-cab0-cf7223cfc204"
      },
      "execution_count": null,
      "outputs": [
        {
          "output_type": "stream",
          "name": "stdout",
          "text": [
            "Sum:  9\n",
            "Subtraction:  5\n",
            "Multiplication:  14\n",
            "Division:  3.5\n",
            "Floor Division:  3\n",
            "Modulo:  1\n",
            "Power:  49\n"
          ]
        }
      ]
    },
    {
      "cell_type": "markdown",
      "source": [
        "If a,b,c are 3 sides of a triangle, then s = (a+b+c)/2 and given the area = (s*(s-a) * (s-b) * (s-c) ** 0.5\n"
      ],
      "metadata": {
        "id": "zmfQm4mHNHdX"
      }
    },
    {
      "cell_type": "code",
      "execution_count": null,
      "metadata": {
        "colab": {
          "base_uri": "https://localhost:8080/"
        },
        "id": "fmMiiGQ2MMZE",
        "outputId": "b2ffdec7-d2e7-4230-f26f-378a68fca692"
      },
      "outputs": [
        {
          "output_type": "stream",
          "name": "stdout",
          "text": [
            "enter the first no: 7\n",
            "enter a second no: 9\n",
            "enter the third no: 67\n",
            "The area of the triangle is: 1407931308007.9102\n"
          ]
        }
      ],
      "source": [
        "a = float(input(\"enter the first no: \", ))\n",
        "b = float(input(\"enter a second no: \", ))\n",
        "c = float(input(\"enter the third no: \", ))\n",
        "\n",
        "s = (a+b+c)/2\n",
        "\n",
        "area = (s*(s-a)*(s-b)*(s-c))**2\n",
        "print(\"The area of the triangle is:\", area)\n"
      ]
    },
    {
      "cell_type": "markdown",
      "source": [
        "Write a python program to calculate the area of a circle assuming that radius = 2.0\n"
      ],
      "metadata": {
        "id": "eEZebnYQNNz1"
      }
    },
    {
      "cell_type": "code",
      "source": [
        "a = 3.142*2.0*2.0\n",
        "print(\"The area of a triangle is:\", a)\n"
      ],
      "metadata": {
        "colab": {
          "base_uri": "https://localhost:8080/"
        },
        "id": "AMNB4IeYMM_5",
        "outputId": "c4c38c2f-a489-4964-aef1-e4db033e5bf7"
      },
      "execution_count": null,
      "outputs": [
        {
          "output_type": "stream",
          "name": "stdout",
          "text": [
            "The area of a triangle is: 12.568\n"
          ]
        }
      ]
    },
    {
      "cell_type": "code",
      "source": [],
      "metadata": {
        "id": "YT4pgfnrM85Z"
      },
      "execution_count": null,
      "outputs": []
    }
  ]
}